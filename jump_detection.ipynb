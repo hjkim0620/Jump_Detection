{
 "cells": [
  {
   "cell_type": "code",
   "execution_count": 1,
   "id": "7cb6e0c1",
   "metadata": {},
   "outputs": [],
   "source": [
    "import datetime\n",
    "import numpy as np\n",
    "import pandas as pd\n",
    "import seaborn as sns\n",
    "import yfinance as yf\n",
    "import matplotlib.pyplot as plt"
   ]
  },
  {
   "cell_type": "code",
   "execution_count": null,
   "id": "5755686b",
   "metadata": {},
   "outputs": [],
   "source": [
    "# class SNP500():\n",
    "#     def __init__(self):\n",
    "#         self.retrieve()\n",
    "    \n",
    "#     def retrieve(self, ticker='^GSPC', intv='1m'):\n",
    "#         self.df = yf.download(ticker, interval=intv)\n",
    "\n",
    "#     def bipower_variance(self, r: list[float], K=390) -> float:\n",
    "#         a = np.abs(r[::-1][: K])\n",
    "#         b = np.abs(r[::-1][1: K+1])\n",
    "        \n",
    "#         return np.pi / (2 * K) * np.sum(a * b)\n",
    "\n",
    "#     def local_volatility(self, r: list[float], K=390) -> float:\n",
    "#         return np.sqrt(self.bipower_variance(r, K))"
   ]
  },
  {
   "cell_type": "markdown",
   "id": "184380e9",
   "metadata": {},
   "source": [
    "Loading S&P 500 data from *start_data* to *end_data* with interval *intv*. Ticker for S&P 500 is ^GSPC."
   ]
  },
  {
   "cell_type": "code",
   "execution_count": null,
   "id": "ae555132",
   "metadata": {},
   "outputs": [
    {
     "name": "stdout",
     "output_type": "stream",
     "text": [
      "YF.download() has changed argument auto_adjust default to True\n"
     ]
    },
    {
     "name": "stderr",
     "output_type": "stream",
     "text": [
      "[*********************100%***********************]  1 of 1 completed\n"
     ]
    }
   ],
   "source": [
    "start_date = '2015-01-01'\n",
    "end_date = '2020-01-01'\n",
    "ticker = '^GSPC'\n",
    "intv = '1m'\n",
    "\n",
    "market_data = yf.download(ticker, interval=intv)"
   ]
  },
  {
   "cell_type": "markdown",
   "id": "e8d7fada",
   "metadata": {},
   "source": [
    "1-min return is defined as $r_t = \\log_{10}(p_t / p_{t-1})$ where $p_t$ is the price at $t$."
   ]
  },
  {
   "cell_type": "code",
   "execution_count": 3,
   "id": "b4856041",
   "metadata": {},
   "outputs": [],
   "source": [
    "market_data['Return'] = np.log(market_data['Close'] / market_data['Open'])"
   ]
  },
  {
   "cell_type": "markdown",
   "id": "1436128a",
   "metadata": {},
   "source": [
    "Estimating rolloing volatility by using\n",
    "\n",
    "$$\n",
    "\\sigma_t^2 = \\frac{\\pi}{2K} \\sum_{i=1}^K | r_{t-i} | | r_{t-i+1} |\n",
    "$$\n",
    "\n",
    "where $K=390$. Note that one day contains $K=390$ of 1-min data, and hence, the above volatility estimate is based on a day of S&P500 data. For the definition and explanation, see https://arxiv.org/pdf/2106.07040 and references therein."
   ]
  },
  {
   "cell_type": "code",
   "execution_count": 34,
   "id": "b1a6b7dd",
   "metadata": {},
   "outputs": [],
   "source": [
    "def bipower_variance(r: list[float], K=390) -> float:\n",
    "    a = np.abs(r[::-1][: K])\n",
    "    b = np.abs(r[::-1][1: K+1])\n",
    "    \n",
    "    return np.pi / (2 * K) * np.sum(a * b)\n",
    "\n",
    "def local_volatility(r: list[float], K=390) -> float:\n",
    "    return np.sqrt(bipower_variance(r, K))"
   ]
  },
  {
   "cell_type": "code",
   "execution_count": 43,
   "id": "d347aab8",
   "metadata": {},
   "outputs": [],
   "source": [
    "market_data['Variance'] = market_data['Return'].rolling(390).apply(bipower_variance)\n",
    "market_data['Volatility'] = market_data['Return'].rolling(390).apply(local_volatility)\n",
    "market_data['Jump'] = np.abs(market_data['Return'] / market_data['Volatility'])"
   ]
  },
  {
   "cell_type": "markdown",
   "id": "8fa9eb6e",
   "metadata": {},
   "source": [
    "so far periodicity factor is not accounted for. "
   ]
  },
  {
   "cell_type": "code",
   "execution_count": null,
   "id": "8a28fac3",
   "metadata": {},
   "outputs": [],
   "source": []
  },
  {
   "cell_type": "code",
   "execution_count": null,
   "id": "280d14aa",
   "metadata": {},
   "outputs": [],
   "source": []
  },
  {
   "cell_type": "code",
   "execution_count": null,
   "id": "3eff18f5",
   "metadata": {},
   "outputs": [],
   "source": []
  }
 ],
 "metadata": {
  "kernelspec": {
   "display_name": "ml-venv",
   "language": "python",
   "name": "python3"
  },
  "language_info": {
   "codemirror_mode": {
    "name": "ipython",
    "version": 3
   },
   "file_extension": ".py",
   "mimetype": "text/x-python",
   "name": "python",
   "nbconvert_exporter": "python",
   "pygments_lexer": "ipython3",
   "version": "3.12.9"
  }
 },
 "nbformat": 4,
 "nbformat_minor": 5
}
